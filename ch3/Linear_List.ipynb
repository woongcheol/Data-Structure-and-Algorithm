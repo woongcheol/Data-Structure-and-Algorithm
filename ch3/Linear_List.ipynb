{
  "nbformat": 4,
  "nbformat_minor": 0,
  "metadata": {
    "colab": {
      "name": "data structure 2.ipynb",
      "provenance": [],
      "collapsed_sections": [],
      "toc_visible": true
    },
    "kernelspec": {
      "name": "python3",
      "display_name": "Python 3"
    },
    "language_info": {
      "name": "python"
    }
  },
  "cells": [
    {
      "cell_type": "markdown",
      "metadata": {
        "id": "y4qq3_-oYI2r"
      },
      "source": [
        "# 간단 구현"
      ]
    },
    {
      "cell_type": "code",
      "metadata": {
        "colab": {
          "base_uri": "https://localhost:8080/"
        },
        "id": "JpjNLIgCYa8Z",
        "outputId": "30d919de-a114-43f4-8892-4eb8a404bec5"
      },
      "source": [
        "# 데이터가 5개인 선형 리스트 생성\n",
        "katok = [\"다현\", \"정연\", \"쯔위\", \"사나\", \"지효\"]\n",
        "print(katok)"
      ],
      "execution_count": 23,
      "outputs": [
        {
          "output_type": "stream",
          "name": "stdout",
          "text": [
            "['다현', '정연', '쯔위', '사나', '지효']\n"
          ]
        }
      ]
    },
    {
      "cell_type": "code",
      "metadata": {
        "colab": {
          "base_uri": "https://localhost:8080/"
        },
        "id": "QY-XpUFqY-O1",
        "outputId": "caae6797-88eb-4a1b-95cb-3f8cd2a4519c"
      },
      "source": [
        "# 특등\n",
        "print(katok[0])\n",
        "# 4등\n",
        "print(katok[4])"
      ],
      "execution_count": 24,
      "outputs": [
        {
          "output_type": "stream",
          "name": "stdout",
          "text": [
            "다현\n",
            "지효\n"
          ]
        }
      ]
    },
    {
      "cell_type": "code",
      "metadata": {
        "colab": {
          "base_uri": "https://localhost:8080/"
        },
        "id": "eLhXHWr9ZKsz",
        "outputId": "c7f5c2c2-1f3c-44d5-b859-86c0cd8d424a"
      },
      "source": [
        "# 데이터 삽입\n",
        "katok.append(None)\n",
        "print(katok)"
      ],
      "execution_count": 25,
      "outputs": [
        {
          "output_type": "stream",
          "name": "stdout",
          "text": [
            "['다현', '정연', '쯔위', '사나', '지효', None]\n"
          ]
        }
      ]
    },
    {
      "cell_type": "code",
      "metadata": {
        "colab": {
          "base_uri": "https://localhost:8080/"
        },
        "id": "jtHAShDrZSW_",
        "outputId": "a22ad935-4424-4b71-c7ea-eeea6a637bf6"
      },
      "source": [
        "katok[5] = \"모모\"\n",
        "print(katok)"
      ],
      "execution_count": 26,
      "outputs": [
        {
          "output_type": "stream",
          "name": "stdout",
          "text": [
            "['다현', '정연', '쯔위', '사나', '지효', '모모']\n"
          ]
        }
      ]
    },
    {
      "cell_type": "code",
      "metadata": {
        "colab": {
          "base_uri": "https://localhost:8080/"
        },
        "id": "FrPCZqVkZdrn",
        "outputId": "e609fc19-d836-436e-ba79-4f0dcf4361e2"
      },
      "source": [
        "katok.append(None)\n",
        "print(katok)"
      ],
      "execution_count": 27,
      "outputs": [
        {
          "output_type": "stream",
          "name": "stdout",
          "text": [
            "['다현', '정연', '쯔위', '사나', '지효', '모모', None]\n"
          ]
        }
      ]
    },
    {
      "cell_type": "code",
      "metadata": {
        "colab": {
          "base_uri": "https://localhost:8080/"
        },
        "id": "OPW2fB1nZjjC",
        "outputId": "d13e1aae-afa3-4e27-adda-9bf7268cc861"
      },
      "source": [
        "katok[6] = katok[5]\n",
        "katok[5] = None\n",
        "print(katok)"
      ],
      "execution_count": 28,
      "outputs": [
        {
          "output_type": "stream",
          "name": "stdout",
          "text": [
            "['다현', '정연', '쯔위', '사나', '지효', None, '모모']\n"
          ]
        }
      ]
    },
    {
      "cell_type": "code",
      "metadata": {
        "colab": {
          "base_uri": "https://localhost:8080/"
        },
        "id": "TwunEE_zZuM1",
        "outputId": "3d8f92d6-60eb-4dca-fc96-9ae5b4cb63d8"
      },
      "source": [
        "katok[5] = katok[4]\n",
        "katok[4] = None\n",
        "katok[4] = katok[3]\n",
        "katok[3] = None\n",
        "katok[3] = \"미나\"\n",
        "print(katok)"
      ],
      "execution_count": 29,
      "outputs": [
        {
          "output_type": "stream",
          "name": "stdout",
          "text": [
            "['다현', '정연', '쯔위', '미나', '사나', '지효', '모모']\n"
          ]
        }
      ]
    },
    {
      "cell_type": "code",
      "metadata": {
        "colab": {
          "base_uri": "https://localhost:8080/"
        },
        "id": "A5J_GQ5xr6L_",
        "outputId": "f8767bd9-647c-4311-ed37-1e6f4f98e637"
      },
      "source": [
        "# 데이터 삭제\n",
        "katok[4] = None\n",
        "print(katok)"
      ],
      "execution_count": 30,
      "outputs": [
        {
          "output_type": "stream",
          "name": "stdout",
          "text": [
            "['다현', '정연', '쯔위', '미나', None, '지효', '모모']\n"
          ]
        }
      ]
    },
    {
      "cell_type": "code",
      "metadata": {
        "colab": {
          "base_uri": "https://localhost:8080/"
        },
        "id": "DPmjmtdqsCJC",
        "outputId": "482ffec8-02b9-4f06-df43-fc4da1029fbd"
      },
      "source": [
        "katok[4] = katok[5]\n",
        "katok[5] = None\n",
        "katok[5] = katok[6]\n",
        "katok[6] = None\n",
        "print(katok)"
      ],
      "execution_count": 31,
      "outputs": [
        {
          "output_type": "stream",
          "name": "stdout",
          "text": [
            "['다현', '정연', '쯔위', '미나', '지효', '모모', None]\n"
          ]
        }
      ]
    },
    {
      "cell_type": "code",
      "metadata": {
        "colab": {
          "base_uri": "https://localhost:8080/"
        },
        "id": "b91Z5zWHsfGI",
        "outputId": "62c1b21e-d74b-4170-fcd3-147809b3d8e9"
      },
      "source": [
        "del(katok[6])\n",
        "print(katok)"
      ],
      "execution_count": 32,
      "outputs": [
        {
          "output_type": "stream",
          "name": "stdout",
          "text": [
            "['다현', '정연', '쯔위', '미나', '지효', '모모']\n"
          ]
        }
      ]
    },
    {
      "cell_type": "markdown",
      "metadata": {
        "id": "vGqdXumfYOI0"
      },
      "source": [
        "# 일반 구현"
      ]
    },
    {
      "cell_type": "code",
      "metadata": {
        "colab": {
          "base_uri": "https://localhost:8080/"
        },
        "id": "A5MmGgWRYdc6",
        "outputId": "716e28f4-a4db-4f30-a201-2c5954ae031f"
      },
      "source": [
        "# 배열을 이용한 선형 리스트 생성\n",
        "katok = []\n",
        "\n",
        "katok.append(None)\n",
        "배열길이 = len(katok)\n",
        "katok[배열길이-1] = '다현'\n",
        "print(katok)\n",
        "\n",
        "# 선형 리스트에 정연 추가하기\n",
        "katok.append(None)\n",
        "배열길이 = len(katok)\n",
        "katok[배열길이-1] = '정연'\n",
        "print(katok)"
      ],
      "execution_count": 34,
      "outputs": [
        {
          "output_type": "stream",
          "name": "stdout",
          "text": [
            "['다현']\n",
            "['다현', '정연']\n"
          ]
        }
      ]
    },
    {
      "cell_type": "code",
      "metadata": {
        "colab": {
          "base_uri": "https://localhost:8080/"
        },
        "id": "WCRHcx9L7xd9",
        "outputId": "d869ca3e-b344-4783-c9fa-bc9919bd750a"
      },
      "source": [
        "# 선형 리스트 생성 함수의 완성\n",
        "katok = []\n",
        "\n",
        "def add_data(friend) :\n",
        "\n",
        "  katok.append(None)\n",
        "  kLen = len(katok)\n",
        "  katok[kLen-1] = friend\n",
        "\n",
        "add_data('다현')\n",
        "add_data('정연')\n",
        "add_data('쯔위')\n",
        "add_data('사나')\n",
        "add_data('지효')\n",
        "\n",
        "print(katok)"
      ],
      "execution_count": 35,
      "outputs": [
        {
          "output_type": "stream",
          "name": "stdout",
          "text": [
            "['다현', '정연', '쯔위', '사나', '지효']\n"
          ]
        }
      ]
    },
    {
      "cell_type": "code",
      "metadata": {
        "id": "t78-ywe_8mZP"
      },
      "source": [
        "# 선형 리스트 데이터 삽입(중간 데이터)\n",
        "\n",
        "katok = ['다현', '정연', '쯔위', '사나', '지효']\n",
        "\n",
        "def insert_data(position, friend):\n",
        "  if position < 0 or position > len(katok):\n",
        "    print(\"데이터를 삽입할 범위를 벗어났습니다.\")\n",
        "    return\n",
        "\n",
        "  katok.append(None)\n",
        "  kLen = len(katok)\n",
        "\n",
        "  for i in range(kLen-1, position, -1):\n",
        "    katok[i] = katok[i-1]\n",
        "    katok[i-1] = None\n",
        "  \n",
        "  katok[position] = friend"
      ],
      "execution_count": 52,
      "outputs": []
    },
    {
      "cell_type": "code",
      "metadata": {
        "colab": {
          "base_uri": "https://localhost:8080/"
        },
        "id": "nxoSNvmc-FtU",
        "outputId": "d1ceb331-964f-481c-cbae-ca16e335fc0f"
      },
      "source": [
        "insert_data(2, '솔라')\n",
        "print(katok)\n",
        "insert_data(6, '문별')\n",
        "print(katok)"
      ],
      "execution_count": 53,
      "outputs": [
        {
          "output_type": "stream",
          "name": "stdout",
          "text": [
            "['다현', '정연', '솔라', '쯔위', '사나', '지효']\n",
            "['다현', '정연', '솔라', '쯔위', '사나', '지효', '문별']\n"
          ]
        }
      ]
    },
    {
      "cell_type": "code",
      "metadata": {
        "id": "cdx7n-cg_D6u"
      },
      "source": [
        "# 데이터 삭제"
      ],
      "execution_count": null,
      "outputs": []
    },
    {
      "cell_type": "markdown",
      "metadata": {
        "id": "pAQvA09HYYGz"
      },
      "source": [
        "# 응용"
      ]
    },
    {
      "cell_type": "code",
      "metadata": {
        "id": "iT6UILn5Yd-i"
      },
      "source": [
        ""
      ],
      "execution_count": null,
      "outputs": []
    }
  ]
}