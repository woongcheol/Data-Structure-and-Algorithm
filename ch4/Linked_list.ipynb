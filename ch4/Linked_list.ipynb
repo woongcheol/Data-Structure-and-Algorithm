{
  "nbformat": 4,
  "nbformat_minor": 0,
  "metadata": {
    "colab": {
      "name": "Untitled1.ipynb",
      "provenance": []
    },
    "kernelspec": {
      "name": "python3",
      "display_name": "Python 3"
    },
    "language_info": {
      "name": "python"
    }
  },
  "cells": [
    {
      "cell_type": "code",
      "metadata": {
        "colab": {
          "base_uri": "https://localhost:8080/"
        },
        "id": "T7FcymaKQaF0",
        "outputId": "7270c4ea-a1b6-4a6f-873a-e7a908c4a5a3"
      },
      "source": [
        "## 클래스와 함수 선언 부분 ##\n",
        "class Node() :\n",
        "\tdef __init__ (self) :\n",
        "\t\tself.data = None\n",
        "\t\tself.link = None\n",
        "\n",
        "def printNodes(start) :\n",
        "\tcurrent = start\n",
        "\tif current == None :\n",
        "\t\treturn\n",
        "\tprint(current.data, end = ' ')\n",
        "\twhile current.link != None:\n",
        "\t\tcurrent = current.link\n",
        "\t\tprint(current.data, end = ' ')\n",
        "\tprint()\n",
        "\n",
        "## 전역 변수 선언 부분 ##\n",
        "memory = []\n",
        "head, current, pre = None, None, None\n",
        "dataArray = [\"다현\", \"정연\", \"쯔위\", \"사나\", \"지효\"]\n",
        "\n",
        "## 메인 코드 부분 ##\n",
        "if __name__ == \"__main__\" :\n",
        "\n",
        "\tnode = Node()\t\t# 첫 번째 노드\n",
        "\tnode.data = dataArray[0]\n",
        "\thead = node\n",
        "\tmemory.append(head)\n",
        "\n",
        "\tfor data in dataArray[1:] :\t# 두 번째 이후 노드\n",
        "\t\tpre = node\n",
        "\t\tnode = Node()\n",
        "\t\tnode.data = data\n",
        "\t\tpre.link = node\n",
        "\t\tmemory.append(node)\n",
        "\n",
        "\tprintNodes(head)"
      ],
      "execution_count": null,
      "outputs": [
        {
          "output_type": "stream",
          "name": "stdout",
          "text": [
            "다현 정연 쯔위 사나 지효 \n"
          ]
        }
      ]
    },
    {
      "cell_type": "code",
      "metadata": {
        "colab": {
          "base_uri": "https://localhost:8080/"
        },
        "id": "8a7-p0YSQbBL",
        "outputId": "f19b946d-c899-4dac-f770-af2deef74cc5"
      },
      "source": [
        "## 클래스와 함수 선언 부분 ##\n",
        "class Node() :\n",
        "\tdef __init__ (self) :\n",
        "\t\tself.data = None\n",
        "\t\tself.link = None\n",
        "\n",
        "def printNodes(start) :\n",
        "\tcurrent = start\n",
        "\tif current == None :\n",
        "\t\treturn\n",
        "\tprint(current.data, end = ' ')\n",
        "\twhile current.link != None:\n",
        "\t\tcurrent = current.link\n",
        "\t\tprint(current.data, end = ' ')\n",
        "\tprint()\n",
        "\n",
        "def insertNode(findData, insertData) :\n",
        "\tglobal memory, head, current, pre\n",
        "\n",
        "\tif head.data == findData :      # 첫 번째 노드 삽입\n",
        "\t\tnode = Node()\n",
        "\t\tnode.data = insertData\n",
        "\t\tnode.link = head\n",
        "\t\thead = node\n",
        "\t\treturn\n",
        "\n",
        "\tcurrent = head\n",
        "\twhile current.link != None :    # 중간 노드 삽입\n",
        "\t\tpre = current\n",
        "\t\tcurrent = current.link\n",
        "\t\tif current.data == findData :\n",
        "\t\t\tnode = Node()\n",
        "\t\t\tnode.data = insertData\n",
        "\t\t\tnode.link = current\n",
        "\t\t\tpre.link = node\n",
        "\t\t\treturn\n",
        "\n",
        "\tnode = Node()                   # 마지막 노드 삽입\n",
        "\tnode.data = insertData\n",
        "\tcurrent.link = node\n",
        "\n",
        "## 전역 변수 선언 부분 ##\n",
        "memory = []\n",
        "head, current, pre = None, None, None\n",
        "dataArray = [\"다현\", \"정연\", \"쯔위\", \"사나\", \"지효\"]\n",
        "\n",
        "## 메인 코드 부분 ##\n",
        "if __name__ == \"__main__\" :\n",
        "\n",
        "\tnode = Node()\t\t\t# 첫 번째 노드\n",
        "\tnode.data = dataArray[0]\n",
        "\thead = node\n",
        "\tmemory.append(node)\n",
        "\n",
        "\tfor data in dataArray[1:] :\t\t# 두 번째 노드부터\n",
        "\t\tpre = node\n",
        "\t\tnode = Node()\n",
        "\t\tnode.data = data\n",
        "\t\tpre.link = node\n",
        "\t\tmemory.append(node)\n",
        "\n",
        "\tprintNodes(head)\n",
        "\n",
        "\t# insertNode(\"다현\", \"화사\")\n",
        "\t# printNodes(head)\n",
        "\n",
        "\t# insertNode(\"사나\", \"솔라\")\n",
        "\t# printNodes(head)\n",
        "\n",
        "\tinsertNode(\"재남\", \"문별\")\n",
        "\tprintNodes(head)"
      ],
      "execution_count": null,
      "outputs": [
        {
          "output_type": "stream",
          "name": "stdout",
          "text": [
            "다현 정연 쯔위 사나 지효 \n",
            "다현 정연 쯔위 사나 지효 문별 \n"
          ]
        }
      ]
    },
    {
      "cell_type": "code",
      "metadata": {
        "colab": {
          "base_uri": "https://localhost:8080/"
        },
        "id": "9X4ZuWNbQce7",
        "outputId": "1a82b89b-d789-49f0-933f-d5c86da9ed85"
      },
      "source": [
        "## 클래스와 함수 선언 부분 ##\n",
        "class Node() :\n",
        "\tdef __init__ (self) :\n",
        "\t\tself.data = None\n",
        "\t\tself.link = None\n",
        "\n",
        "def printNodes(start) :\n",
        "\tcurrent = start\n",
        "\tif current == None :\n",
        "\t\treturn\n",
        "\tprint(current.data, end = ' ')\n",
        "\twhile current.link != None:\n",
        "\t\tcurrent = current.link\n",
        "\t\tprint(current.data, end = ' ')\n",
        "\tprint()\n",
        "\n",
        "def deleteNode(deleteData) :\n",
        "\tglobal memory, head, current, pre\n",
        "\n",
        "\tif head.data == deleteData :         # 첫 번째 노드 삭제\n",
        "\t\tcurrent = head\n",
        "\t\thead = head.link\n",
        "\t\tdel(current)\n",
        "\t\treturn\n",
        "\n",
        "\tcurrent = head                          # 첫 번째  외 노드 삭제\n",
        "\twhile current.link != None :\n",
        "\t\tpre = current\n",
        "\t\tcurrent = current.link\n",
        "\t\tif current.data == deleteData :\n",
        "\t\t\tpre.link = current.link\n",
        "\t\t\tdel(current)\n",
        "\t\t\treturn\n",
        "\n",
        "## 전역 변수 선언 부분 ##\n",
        "memory = []\n",
        "head, current, pre = None, None, None\n",
        "dataArray = [\"다현\", \"정연\", \"쯔위\", \"사나\", \"지효\"]\n",
        "\n",
        "## 메인 코드 부분 ##\n",
        "if __name__ == \"__main__\" :\n",
        "\n",
        "\tnode = Node()\t\t\t# 첫 번째 노드\n",
        "\tnode.data = dataArray[0]\n",
        "\thead = node\n",
        "\tmemory.append(node)\n",
        "\n",
        "\tfor data in dataArray[1:] :\t\t# 두 번째 노드부터\n",
        "\t\tpre = node\n",
        "\t\tnode = Node()\n",
        "\t\tnode.data = data\n",
        "\t\tpre.link = node\n",
        "\t\tmemory.append(node)\n",
        "\n",
        "\tprintNodes(head)\n",
        "\n",
        "\tdeleteNode(\"다현\")\n",
        "\tprintNodes(head)\n",
        "\n",
        "\t# deleteNode(\"쯔위\")\n",
        "\t# printNodes(head)\n",
        "\n",
        "\t# deleteNode(\"지효\")\n",
        "\t# printNodes(head)\n",
        "\n",
        "\t# deleteNode(\"재남\")\n",
        "\t# printNodes(head)"
      ],
      "execution_count": null,
      "outputs": [
        {
          "output_type": "stream",
          "name": "stdout",
          "text": [
            "다현 정연 쯔위 사나 지효 \n",
            "정연 쯔위 사나 지효 \n"
          ]
        }
      ]
    },
    {
      "cell_type": "code",
      "metadata": {
        "colab": {
          "base_uri": "https://localhost:8080/"
        },
        "id": "tO4SBDuWQd2a",
        "outputId": "a0a2b064-97b9-4bef-9ead-d5c54cea1a5f"
      },
      "source": [
        "## 클래스와 함수 선언 부분 ##\n",
        "class Node() :\n",
        "\tdef __init__ (self) :\n",
        "\t\tself.data = None\n",
        "\t\tself.link = None\n",
        "\n",
        "def printNodes(start) :\n",
        "\tcurrent = start\n",
        "\tif current == None :\n",
        "\t\treturn\n",
        "\tprint(current.data, end = ' ')\n",
        "\twhile current.link != None:\n",
        "\t\tcurrent = current.link\n",
        "\t\tprint(current.data, end = ' ')\n",
        "\tprint()\n",
        "\n",
        "def findNode(findData) :\n",
        "\tglobal memory, head, current, pre\n",
        "\n",
        "\tcurrent = head\n",
        "\tif current.data == findData :\n",
        "\t\treturn current\n",
        "\twhile current.link != None :\n",
        "\t\tcurrent = current.link\n",
        "\t\tif current.data == findData :\n",
        "\t\t\treturn current\n",
        "\treturn Node()\t# 빈 노드 반환\n",
        "\n",
        "## 전역 변수 선언 부분 ##\n",
        "memory = []\n",
        "head, current, pre = None, None, None\n",
        "dataArray = [\"다현\", \"정연\", \"쯔위\", \"사나\", \"지효\"]\n",
        "\n",
        "## 메인 코드 부분 ##\n",
        "if __name__ == \"__main__\" :\n",
        "\n",
        "\tnode = Node()\t\t\t# 첫 번째 노드\n",
        "\tnode.data = dataArray[0]\n",
        "\thead = node\n",
        "\tmemory.append(node)\n",
        "\n",
        "\tfor data in dataArray[1:] :\t\t# 두 번째 노드부터\n",
        "\t\tpre = node\n",
        "\t\tnode = Node()\n",
        "\t\tnode.data = data\n",
        "\t\tpre.link = node\n",
        "\t\tmemory.append(node)\n",
        "\n",
        "\tprintNodes(head)\n",
        "\n",
        "\tfNode = findNode(\"다현\")\n",
        "\tprint(fNode.data)\n",
        "\n",
        "\tfNode = findNode(\"쯔위\")\n",
        "\tprint(fNode.data)\n",
        "\n",
        "\tfNode = findNode(\"재남\")\n",
        "\tprint(fNode.data)"
      ],
      "execution_count": null,
      "outputs": [
        {
          "output_type": "stream",
          "name": "stdout",
          "text": [
            "다현 정연 쯔위 사나 지효 \n",
            "다현\n",
            "쯔위\n",
            "None\n"
          ]
        }
      ]
    },
    {
      "cell_type": "code",
      "metadata": {
        "id": "JfMUJ9cygTXb"
      },
      "source": [
        ""
      ],
      "execution_count": null,
      "outputs": []
    }
  ]
}